{
 "cells": [
  {
   "cell_type": "markdown",
   "metadata": {},
   "source": [
    "# AMPLPY: Pattern Generation\n",
    "\n",
    "Documentation: http://amplpy.readthedocs.io\n",
    "\n",
    "GitHub Repository: https://github.com/ampl/amplpy\n",
    "\n",
    "PyPI Repository: https://pypi.python.org/pypi/amplpy"
   ]
  },
  {
   "cell_type": "markdown",
   "metadata": {},
   "source": [
    "### Imports"
   ]
  },
  {
   "cell_type": "code",
   "execution_count": 1,
   "metadata": {
    "collapsed": true
   },
   "outputs": [],
   "source": [
    "from __future__ import print_function\n",
    "from amplpy import AMPL\n",
    "from math import floor\n",
    "import os"
   ]
  },
  {
   "cell_type": "markdown",
   "metadata": {},
   "source": [
    "### Basic pattern-cutting model"
   ]
  },
  {
   "cell_type": "code",
   "execution_count": 2,
   "metadata": {},
   "outputs": [
    {
     "name": "stdout",
     "output_type": "stream",
     "text": [
      "param nPatterns integer > 0;\n",
      "set PATTERNS = 1..nPatterns; # patterns\n",
      "set WIDTHS; # finished widths\n",
      "param order {WIDTHS} >= 0; # rolls of width j ordered\n",
      "param overrun; # permitted overrun on any width\n",
      "param rolls {WIDTHS,PATTERNS} >= 0 default 0; # rolls of width i in pattern j\n",
      "\n",
      "var Cut {PATTERNS} integer >= 0; # raw rolls to cut in each pattern\n",
      "\n",
      "minimize TotalRawRolls: sum {p in PATTERNS} Cut[p];\n",
      "\n",
      "subject to FinishedRollLimits {w in WIDTHS}:\n",
      "  order[w] <= sum {p in PATTERNS} rolls[w,p] * Cut[p] <= order[w] + overrun;\n",
      "\n"
     ]
    }
   ],
   "source": [
    "with open(os.path.join('models', 'cut.mod'), 'r') as f:\n",
    "    print(f.read())"
   ]
  },
  {
   "cell_type": "markdown",
   "metadata": {},
   "source": [
    "### Plotting routine"
   ]
  },
  {
   "cell_type": "code",
   "execution_count": 3,
   "metadata": {
    "collapsed": true
   },
   "outputs": [],
   "source": [
    "def cuttingPlot(roll_width, widths, solution):\n",
    "    import numpy as np\n",
    "    import matplotlib.pyplot as plt\n",
    "    ind = np.arange(len(solution))\n",
    "    acc = [0]*len(solution)\n",
    "    for p, (patt, rep) in enumerate(solution):\n",
    "        for i in range(len(widths)):\n",
    "            for j in range(patt[i]):\n",
    "                vec = [0]*len(solution)\n",
    "                vec[p] = widths[i]\n",
    "                plt.bar(ind, vec, width=0.35, bottom=acc)\n",
    "                acc[p] += widths[i]\n",
    "    plt.title('Solution')\n",
    "    plt.xticks(ind, tuple(\"x {:}\".format(rep) for patt, rep in solution))\n",
    "    plt.yticks(np.arange(0, roll_width, 10))\n",
    "    plt.show()"
   ]
  },
  {
   "cell_type": "markdown",
   "metadata": {},
   "source": [
    "### Set data"
   ]
  },
  {
   "cell_type": "code",
   "execution_count": 4,
   "metadata": {
    "collapsed": true
   },
   "outputs": [],
   "source": [
    "roll_width = 64.5\n",
    "overrun = 6\n",
    "orders = {\n",
    "    6.77: 10,\n",
    "    7.56: 40,\n",
    "    17.46: 33,\n",
    "    18.76: 10\n",
    "}\n",
    "widths = list(sorted(orders.keys(), reverse=True))"
   ]
  },
  {
   "cell_type": "markdown",
   "metadata": {},
   "source": [
    "### Set up AMPL model"
   ]
  },
  {
   "cell_type": "code",
   "execution_count": 5,
   "metadata": {},
   "outputs": [],
   "source": [
    "# Initialize\n",
    "ampl = AMPL()\n",
    "ampl.read(os.path.join('models', 'cut.mod'))"
   ]
  },
  {
   "cell_type": "markdown",
   "metadata": {},
   "source": [
    "### Send data to AMPL (Java/C++ style)"
   ]
  },
  {
   "cell_type": "code",
   "execution_count": 6,
   "metadata": {
    "collapsed": true
   },
   "outputs": [],
   "source": [
    "# Send scalar values\n",
    "ampl.getParameter('overrun').set(overrun)\n",
    "ampl.getParameter('nPatterns').set(len(widths))\n",
    "# Send order vector\n",
    "ampl.getSet('WIDTHS').setValues(widths)\n",
    "ampl.getParameter('order').setValues(orders)\n",
    "# Generate and send initial pattern matrix\n",
    "ampl.getParameter('rolls').setValues({\n",
    "    (widths[i], 1+i): int(floor(roll_width/widths[i]))\n",
    "    for i in range(len(widths))\n",
    "})"
   ]
  },
  {
   "cell_type": "markdown",
   "metadata": {},
   "source": [
    "### Send data to AMPL (alternative style)"
   ]
  },
  {
   "cell_type": "code",
   "execution_count": 7,
   "metadata": {
    "collapsed": true
   },
   "outputs": [],
   "source": [
    "# Send scalar values\n",
    "ampl.param['overrun'] = overrun\n",
    "ampl.param['nPatterns'] = len(widths)\n",
    "# Send order vector\n",
    "ampl.set['WIDTHS'] = widths\n",
    "ampl.param['order'] = orders\n",
    "# Generate and send initial pattern matrix\n",
    "ampl.param['rolls'] = {\n",
    "    (widths[i], 1+i): int(floor(roll_width/widths[i]))\n",
    "    for i in range(len(widths))\n",
    "}"
   ]
  },
  {
   "cell_type": "markdown",
   "metadata": {},
   "source": [
    "### Set up for generation loop"
   ]
  },
  {
   "cell_type": "code",
   "execution_count": 8,
   "metadata": {},
   "outputs": [],
   "source": [
    "# Set solve options\n",
    "ampl.option['solver'] = 'gurobi'\n",
    "ampl.option['relax_integrality'] =  1\n",
    "\n",
    "# Create a param for sending AMPL new patterns\n",
    "ampl.eval('param newpat {WIDTHS} integer >= 0;')\n",
    "new_pattern = ampl.param['newpat']"
   ]
  },
  {
   "cell_type": "markdown",
   "metadata": {},
   "source": [
    "### Define the knapsack subproblem"
   ]
  },
  {
   "cell_type": "code",
   "execution_count": 9,
   "metadata": {
    "collapsed": true
   },
   "outputs": [],
   "source": [
    "# Define the knapsack subproblem\n",
    "subprob = AMPL()\n",
    "subprob.option['solver'] = 'gurobi'\n",
    "subprob.eval('''\n",
    "    set WIDTHS;\n",
    "    param W >= 0;\n",
    "    param v{WIDTHS} >= 0;\n",
    "    var x{WIDTHS} integer >= 0;\n",
    "    maximize profit: sum {w in WIDTHS} v[w]*x[w];\n",
    "    subject to capacity: sum {w in WIDTHS} w*x[w] <= W;\n",
    "''')\n",
    "subprob.set['WIDTHS'] = widths\n",
    "subprob.param['W'] = roll_width\n",
    "values = subprob.param['v']\n",
    "kpsolution = subprob.var['x']\n",
    "profit = subprob.obj['profit']"
   ]
  },
  {
   "cell_type": "markdown",
   "metadata": {},
   "source": [
    "### Loop"
   ]
  },
  {
   "cell_type": "code",
   "execution_count": 10,
   "metadata": {},
   "outputs": [
    {
     "name": "stdout",
     "output_type": "stream",
     "text": [
      "Master problem:\n",
      "Gurobi 7.5.1: optimal solution; objective 20.44444444\n",
      "\n",
      "Subproblem:\n",
      "Gurobi 7.5.1: optimal solution; objective 1.152777\n",
      "2 simplex iterations\n",
      "1 branch-and-cut nodes\n",
      "\n",
      "Master problem:\n",
      "Gurobi 7.5.1: optimal solution; objective 18.77777778\n",
      "1 simplex iterations\n",
      "\n",
      "Subproblem:\n",
      "Gurobi 7.5.1: optimal solution; objective 1.11111\n",
      "1 simplex iterations\n",
      "1 branch-and-cut nodes\n",
      "\n",
      "Master problem:\n",
      "Gurobi 7.5.1: optimal solution; objective 18.375\n",
      "3 simplex iterations\n",
      "\n",
      "Subproblem:\n",
      "Gurobi 7.5.1: optimal solution; objective 1.124999\n",
      "1 simplex iterations\n",
      "1 branch-and-cut nodes\n",
      "\n",
      "Master problem:\n",
      "Gurobi 7.5.1: optimal solution; objective 17.95833333\n",
      "5 simplex iterations\n",
      "\n",
      "Subproblem:\n",
      "Gurobi 7.5.1: optimal solution; objective 1.041667\n",
      "5 simplex iterations\n",
      "1 branch-and-cut nodes\n",
      "\n",
      "Master problem:\n",
      "Gurobi 7.5.1: optimal solution; objective 17.94117647\n",
      "5 simplex iterations\n",
      "\n",
      "Subproblem:\n",
      "Gurobi 7.5.1: optimal solution; objective 1.000001\n",
      "1 simplex iterations\n",
      "1 branch-and-cut nodes\n",
      "\n"
     ]
    }
   ],
   "source": [
    "limits = ampl.getConstraint('FinishedRollLimits')\n",
    "while True:\n",
    "    print('Master problem:')\n",
    "    ampl.solve()\n",
    "    print()\n",
    "\n",
    "    # Retrieve duals & look for new pattern\n",
    "    # Solve knapsack problem for potential new pattern\n",
    "    values.setValues(limits.getValues())\n",
    "    print('Subproblem:')\n",
    "    subprob.solve()\n",
    "    print()\n",
    "    if profit.value() <= 1.000001:\n",
    "        break\n",
    "\n",
    "    # Send new pattern to AMPL\n",
    "    new_pattern.setValues(kpsolution.getValues())\n",
    "    ampl.eval('let nPatterns := nPatterns + 1;')\n",
    "    ampl.eval('let {w in WIDTHS} rolls[w, nPatterns] := newpat[w];')"
   ]
  },
  {
   "cell_type": "markdown",
   "metadata": {},
   "source": [
    "### Compute and display integer solution"
   ]
  },
  {
   "cell_type": "code",
   "execution_count": 11,
   "metadata": {},
   "outputs": [
    {
     "name": "stdout",
     "output_type": "stream",
     "text": [
      "Gurobi 7.5.1: optimal solution; objective 19\n",
      "5 simplex iterations\n",
      "[0.0, 0.0, 0.0, 0.0, 10.0, 4.0, 4.0, 1.0]\n"
     ]
    },
    {
     "data": {
      "image/png": "[encoded data removed]",
      "text/plain": [
       "<matplotlib.figure.Figure at 0x7fc1e57ccf90>"
      ]
     },
     "metadata": {},
     "output_type": "display_data"
    }
   ],
   "source": [
    "# Compute and display integer solution\n",
    "ampl.option['relax_integrality'] = 0\n",
    "ampl.solve()\n",
    "\n",
    "# Retrieve solution\n",
    "cutting_plan = ampl.var['Cut'].getValues()\n",
    "cutvec = list(cutting_plan.getColumn('Cut.val'))\n",
    "print(cutvec)\n",
    "\n",
    "# Display solution\n",
    "rolls = ampl.param['rolls']\n",
    "npatterns = int(ampl.param['nPatterns'].value())\n",
    "solution = [\n",
    "    ([int(rolls[widths[i], p]) for i in range(len(widths))], int(cutvec[p]))\n",
    "    for p in range(npatterns)\n",
    "    if cutvec[p] > 0\n",
    "]\n",
    "cuttingPlot(roll_width, widths, solution)"
   ]
  }
 ],
 "metadata": {
  "kernelspec": {
   "display_name": "Python 2",
   "language": "python",
   "name": "python2"
  },
  "language_info": {
   "codemirror_mode": {
    "name": "ipython",
    "version": 2
   },
   "file_extension": ".py",
   "mimetype": "text/x-python",
   "name": "python",
   "nbconvert_exporter": "python",
   "pygments_lexer": "ipython2",
   "version": "2.7.12"
  }
 },
 "nbformat": 4,
 "nbformat_minor": 2
}
