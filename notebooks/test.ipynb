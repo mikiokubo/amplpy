{
 "cells": [
  {
   "cell_type": "code",
   "execution_count": 8,
   "metadata": {},
   "outputs": [],
   "source": [
    "from amplpy import AMPL, Environment, DataFrame"
   ]
  },
  {
   "cell_type": "code",
   "execution_count": 9,
   "metadata": {},
   "outputs": [],
   "source": [
    "ampl = AMPL(Environment(r'/Applications/ampl_macosx64/'))"
   ]
  },
  {
   "cell_type": "code",
   "execution_count": 10,
   "metadata": {},
   "outputs": [
    {
     "ename": "RuntimeError",
     "evalue": "file -\nline 1 offset 17\nFOOD is not a set\n",
     "output_type": "error",
     "traceback": [
      "\u001b[0;31m---------------------------------------------------------------------------\u001b[0m",
      "\u001b[0;31mRuntimeError\u001b[0m                              Traceback (most recent call last)",
      "\u001b[0;32m<ipython-input-10-799292c2c777>\u001b[0m in \u001b[0;36m<module>\u001b[0;34m\u001b[0m\n\u001b[1;32m     10\u001b[0m \u001b[0mdf\u001b[0m\u001b[0;34m.\u001b[0m\u001b[0maddColumn\u001b[0m\u001b[0;34m(\u001b[0m\u001b[0;34m'f_min'\u001b[0m\u001b[0;34m,\u001b[0m \u001b[0mfmin\u001b[0m\u001b[0;34m)\u001b[0m\u001b[0;34m\u001b[0m\u001b[0;34m\u001b[0m\u001b[0m\n\u001b[1;32m     11\u001b[0m \u001b[0mdf\u001b[0m\u001b[0;34m.\u001b[0m\u001b[0maddColumn\u001b[0m\u001b[0;34m(\u001b[0m\u001b[0;34m'f_max'\u001b[0m\u001b[0;34m,\u001b[0m \u001b[0mfmax\u001b[0m\u001b[0;34m)\u001b[0m\u001b[0;34m\u001b[0m\u001b[0;34m\u001b[0m\u001b[0m\n\u001b[0;32m---> 12\u001b[0;31m \u001b[0mampl\u001b[0m\u001b[0;34m.\u001b[0m\u001b[0msetData\u001b[0m\u001b[0;34m(\u001b[0m\u001b[0mdf\u001b[0m\u001b[0;34m,\u001b[0m \u001b[0;34m'FOOD'\u001b[0m\u001b[0;34m)\u001b[0m\u001b[0;34m\u001b[0m\u001b[0;34m\u001b[0m\u001b[0m\n\u001b[0m\u001b[1;32m     13\u001b[0m \u001b[0;34m\u001b[0m\u001b[0m\n\u001b[1;32m     14\u001b[0m \u001b[0mnutrients\u001b[0m \u001b[0;34m=\u001b[0m \u001b[0;34m[\u001b[0m\u001b[0;34m'A'\u001b[0m\u001b[0;34m,\u001b[0m \u001b[0;34m'C'\u001b[0m\u001b[0;34m,\u001b[0m \u001b[0;34m'B1'\u001b[0m\u001b[0;34m,\u001b[0m \u001b[0;34m'B2'\u001b[0m\u001b[0;34m,\u001b[0m \u001b[0;34m'NA'\u001b[0m\u001b[0;34m,\u001b[0m \u001b[0;34m'CAL'\u001b[0m\u001b[0;34m]\u001b[0m\u001b[0;34m\u001b[0m\u001b[0;34m\u001b[0m\u001b[0m\n",
      "\u001b[0;32m~/.local/share/virtualenvs/ampl-Xh55S_cV/lib/python3.8/site-packages/amplpy/ampl.py\u001b[0m in \u001b[0;36msetData\u001b[0;34m(self, data, setName)\u001b[0m\n\u001b[1;32m    590\u001b[0m             \u001b[0mself\u001b[0m\u001b[0;34m.\u001b[0m\u001b[0m_impl\u001b[0m\u001b[0;34m.\u001b[0m\u001b[0msetData\u001b[0m\u001b[0;34m(\u001b[0m\u001b[0mdata\u001b[0m\u001b[0;34m.\u001b[0m\u001b[0m_impl\u001b[0m\u001b[0;34m)\u001b[0m\u001b[0;34m\u001b[0m\u001b[0;34m\u001b[0m\u001b[0m\n\u001b[1;32m    591\u001b[0m         \u001b[0;32melse\u001b[0m\u001b[0;34m:\u001b[0m\u001b[0;34m\u001b[0m\u001b[0;34m\u001b[0m\u001b[0m\n\u001b[0;32m--> 592\u001b[0;31m             \u001b[0mself\u001b[0m\u001b[0;34m.\u001b[0m\u001b[0m_impl\u001b[0m\u001b[0;34m.\u001b[0m\u001b[0msetData\u001b[0m\u001b[0;34m(\u001b[0m\u001b[0mdata\u001b[0m\u001b[0;34m.\u001b[0m\u001b[0m_impl\u001b[0m\u001b[0;34m,\u001b[0m \u001b[0msetName\u001b[0m\u001b[0;34m)\u001b[0m\u001b[0;34m\u001b[0m\u001b[0;34m\u001b[0m\u001b[0m\n\u001b[0m\u001b[1;32m    593\u001b[0m \u001b[0;34m\u001b[0m\u001b[0m\n\u001b[1;32m    594\u001b[0m     \u001b[0;32mdef\u001b[0m \u001b[0mreadTable\u001b[0m\u001b[0;34m(\u001b[0m\u001b[0mself\u001b[0m\u001b[0;34m,\u001b[0m \u001b[0mtableName\u001b[0m\u001b[0;34m)\u001b[0m\u001b[0;34m:\u001b[0m\u001b[0;34m\u001b[0m\u001b[0;34m\u001b[0m\u001b[0m\n",
      "\u001b[0;31mRuntimeError\u001b[0m: file -\nline 1 offset 17\nFOOD is not a set\n"
     ]
    }
   ],
   "source": [
    "foods = ['BEEF', 'CHK', 'FISH', 'HAM', 'MCH', 'MTL', 'SPG', 'TUR']\n",
    "costs = [3.59, 2.59, 2.29, 2.89, 1.89, 1.99, 1.99, 2.49]\n",
    "\n",
    "fmin = [2, 2, 2, 2, 2, 2, 2, 2]\n",
    "fmax = [10, 10, 10, 10, 10, 10, 10, 10]\n",
    "\n",
    "df = DataFrame('FOOD')\n",
    "df.setColumn('FOOD', foods)\n",
    "df.addColumn('cost', costs)\n",
    "df.addColumn('f_min', fmin)\n",
    "df.addColumn('f_max', fmax)\n",
    "ampl.setData(df, 'FOOD')\n",
    "\n",
    "nutrients = ['A', 'C', 'B1', 'B2', 'NA', 'CAL']\n",
    "nmin = [700, 700, 700, 700, 0, 16000]\n",
    "nmax = [20000, 20000, 20000, 20000, 50000, 24000]\n",
    "\n",
    "df = DataFrame('NUTR')\n",
    "df.setColumn('NUTR', nutrients)\n",
    "df.addColumn('n_min', nmin)\n",
    "df.addColumn('n_max', nmax)\n",
    "ampl.setData(df, 'NUTR')\n",
    "\n",
    "amounts = [\n",
    "    [ 60,    8,   8,  40,   15,  70,   25,   60],\n",
    "    [ 20,    0,  10,  40,   35,  30,   50,   20],\n",
    "    [ 10,   20,  15,  35,   15,  15,   25,   15],\n",
    "    [ 15,   20,  10,  10,   15,  15,   15,   10],\n",
    "    [928, 2180, 945, 278, 1182, 896, 1329, 1397],\n",
    "    [295,  770, 440, 430,  315, 400,  379,  450]\n",
    "]\n",
    "\n",
    "df = DataFrame(('NUTR', 'FOOD'), 'amt')\n",
    "df.setValues({\n",
    "    (nutrient, food): amounts[i][j]\n",
    "    for i, nutrient in enumerate(nutrients)\n",
    "    for j, food in enumerate(foods)\n",
    "})\n",
    "ampl.setData(df)\n",
    "\n",
    "ampl.solve()\n",
    "\n",
    "print('Objective: {}'.format(ampl.getObjective('Total_Cost').value()))\n",
    "\n"
   ]
  },
  {
   "cell_type": "code",
   "execution_count": null,
   "metadata": {},
   "outputs": [],
   "source": []
  }
 ],
 "metadata": {
  "kernelspec": {
   "display_name": "Python 3",
   "language": "python",
   "name": "python3"
  },
  "language_info": {
   "codemirror_mode": {
    "name": "ipython",
    "version": 3
   },
   "file_extension": ".py",
   "mimetype": "text/x-python",
   "name": "python",
   "nbconvert_exporter": "python",
   "pygments_lexer": "ipython3",
   "version": "3.8.2"
  }
 },
 "nbformat": 4,
 "nbformat_minor": 4
}
