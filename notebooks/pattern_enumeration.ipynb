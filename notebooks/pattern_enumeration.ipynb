{
 "cells": [
  {
   "cell_type": "markdown",
   "metadata": {},
   "source": [
    "# AMPLPY: Pattern Enumeration\n",
    "\n",
    "Documentation: http://amplpy.readthedocs.io\n",
    "\n",
    "GitHub Repository: https://github.com/ampl/amplpy\n",
    "\n",
    "PyPI Repository: https://pypi.python.org/pypi/amplpy"
   ]
  },
  {
   "cell_type": "markdown",
   "metadata": {},
   "source": [
    "### Imports"
   ]
  },
  {
   "cell_type": "code",
   "execution_count": 1,
   "metadata": {
    "collapsed": true
   },
   "outputs": [],
   "source": [
    "from __future__ import print_function\n",
    "from amplpy import AMPL\n",
    "import os"
   ]
  },
  {
   "cell_type": "markdown",
   "metadata": {},
   "source": [
    "### Basic pattern-cutting model"
   ]
  },
  {
   "cell_type": "code",
   "execution_count": 2,
   "metadata": {},
   "outputs": [
    {
     "name": "stdout",
     "output_type": "stream",
     "text": [
      "param nPatterns integer > 0;\n",
      "set PATTERNS = 1..nPatterns; # patterns\n",
      "set WIDTHS; # finished widths\n",
      "param order {WIDTHS} >= 0; # rolls of width j ordered\n",
      "param overrun; # permitted overrun on any width\n",
      "param rolls {WIDTHS,PATTERNS} >= 0 default 0; # rolls of width i in pattern j\n",
      "\n",
      "var Cut {PATTERNS} integer >= 0; # raw rolls to cut in each pattern\n",
      "\n",
      "minimize TotalRawRolls: sum {p in PATTERNS} Cut[p];\n",
      "\n",
      "subject to FinishedRollLimits {w in WIDTHS}:\n",
      "  order[w] <= sum {p in PATTERNS} rolls[w,p] * Cut[p] <= order[w] + overrun;\n",
      "\n"
     ]
    }
   ],
   "source": [
    "with open(os.path.join('models', 'cut.mod'), 'r') as f:\n",
    "    print(f.read())"
   ]
  },
  {
   "cell_type": "markdown",
   "metadata": {},
   "source": [
    "### Enumeration routine"
   ]
  },
  {
   "cell_type": "code",
   "execution_count": 3,
   "metadata": {
    "collapsed": true
   },
   "outputs": [],
   "source": [
    "from math import floor\n",
    "\n",
    "def patternEnum(roll_width, widths, prefix=[]):\n",
    "    max_rep = int(floor(roll_width/widths[0]))\n",
    "    if len(widths) == 1:\n",
    "        patmat = [prefix+[max_rep]]\n",
    "    else:\n",
    "        patmat = []\n",
    "        for n in reversed(range(max_rep+1)):\n",
    "            patmat += patternEnum(roll_width-n*widths[0], widths[1:], prefix+[n])\n",
    "    return patmat"
   ]
  },
  {
   "cell_type": "markdown",
   "metadata": {},
   "source": [
    "### Plotting routine"
   ]
  },
  {
   "cell_type": "code",
   "execution_count": 4,
   "metadata": {
    "collapsed": true
   },
   "outputs": [],
   "source": [
    "def cuttingPlot(roll_width, widths, solution):\n",
    "    import numpy as np\n",
    "    import matplotlib.pyplot as plt\n",
    "    ind = np.arange(len(solution))\n",
    "    acc = [0]*len(solution)\n",
    "    for p, (patt, rep) in enumerate(solution):\n",
    "        for i in range(len(widths)):\n",
    "            for j in range(patt[i]):\n",
    "                vec = [0]*len(solution)\n",
    "                vec[p] = widths[i]\n",
    "                plt.bar(ind, vec, width=0.35, bottom=acc)\n",
    "                acc[p] += widths[i]\n",
    "    plt.title('Solution')\n",
    "    plt.xticks(ind, tuple(\"x {:}\".format(rep) for patt, rep in solution))\n",
    "    plt.yticks(np.arange(0, roll_width, 10))\n",
    "    plt.show()"
   ]
  },
  {
   "cell_type": "markdown",
   "metadata": {},
   "source": [
    "### Set & generate data"
   ]
  },
  {
   "cell_type": "code",
   "execution_count": 5,
   "metadata": {
    "collapsed": true
   },
   "outputs": [],
   "source": [
    "roll_width = 64.5\n",
    "overrun = 6\n",
    "orders = {\n",
    "    6.77: 10,\n",
    "    7.56: 40,\n",
    "    17.46: 33,\n",
    "    18.76: 10\n",
    "}\n",
    "widths = list(sorted(orders.keys(), reverse=True))\n",
    "patmat = patternEnum(roll_width, widths)"
   ]
  },
  {
   "cell_type": "markdown",
   "metadata": {},
   "source": [
    "### Set up AMPL model"
   ]
  },
  {
   "cell_type": "code",
   "execution_count": 6,
   "metadata": {},
   "outputs": [],
   "source": [
    "# Initialize\n",
    "ampl = AMPL()\n",
    "ampl.read(os.path.join('models', 'cut.mod'))"
   ]
  },
  {
   "cell_type": "markdown",
   "metadata": {},
   "source": [
    "### Send data to AMPL (Java/C++ style)"
   ]
  },
  {
   "cell_type": "code",
   "execution_count": 7,
   "metadata": {
    "collapsed": true
   },
   "outputs": [],
   "source": [
    "# Send scalar values\n",
    "ampl.getParameter('overrun').set(overrun)\n",
    "ampl.getParameter('nPatterns').set(len(patmat))\n",
    "# Send order vector\n",
    "ampl.getSet('WIDTHS').setValues(widths)\n",
    "ampl.getParameter('order').setValues(orders)\n",
    "# Send pattern matrix\n",
    "ampl.getParameter('rolls').setValues({\n",
    "    (widths[i], 1+p): patmat[p][i]\n",
    "    for i in range(len(widths))\n",
    "    for p in range(len(patmat))\n",
    "})"
   ]
  },
  {
   "cell_type": "markdown",
   "metadata": {},
   "source": [
    "### Send data to AMPL (alternative style)"
   ]
  },
  {
   "cell_type": "code",
   "execution_count": 8,
   "metadata": {
    "collapsed": true
   },
   "outputs": [],
   "source": [
    "# Send scalar values\n",
    "ampl.param['overrun'] = overrun\n",
    "ampl.param['nPatterns'] = len(patmat)\n",
    "# Send order vector\n",
    "ampl.set['WIDTHS'] = widths\n",
    "ampl.param['order'] = orders\n",
    "# Send pattern matrixc \n",
    "ampl.param['rolls'] = {\n",
    "    (widths[i], 1+p): patmat[p][i]\n",
    "    for i in range(len(widths))\n",
    "    for p in range(len(patmat))\n",
    "}"
   ]
  },
  {
   "cell_type": "markdown",
   "metadata": {},
   "source": [
    "### Solve and report"
   ]
  },
  {
   "cell_type": "code",
   "execution_count": 9,
   "metadata": {},
   "outputs": [
    {
     "name": "stdout",
     "output_type": "stream",
     "text": [
      "Gurobi 7.5.1: optimal solution; objective 18\n",
      "8 simplex iterations\n",
      "1 branch-and-cut nodes\n"
     ]
    },
    {
     "data": {
      "image/png": "[encoded data removed]",
      "text/plain": [
       "<matplotlib.figure.Figure at 0x7fcfd5980490>"
      ]
     },
     "metadata": {},
     "output_type": "display_data"
    }
   ],
   "source": [
    "# Solve\n",
    "ampl.option['solver'] = 'gurobi'\n",
    "ampl.solve()\n",
    "# Retrieve solution\n",
    "cutting_plan = ampl.var['Cut'].getValues()\n",
    "cutvec = list(cutting_plan.getColumn('Cut.val'))\n",
    "\n",
    "# Display solution\n",
    "solution = [\n",
    "    (patmat[p], cutvec[p])\n",
    "    for p in range(len(patmat))\n",
    "    if cutvec[p] > 0\n",
    "]\n",
    "cuttingPlot(roll_width, widths, solution)"
   ]
  }
 ],
 "metadata": {
  "kernelspec": {
   "display_name": "Python 2",
   "language": "python",
   "name": "python2"
  },
  "language_info": {
   "codemirror_mode": {
    "name": "ipython",
    "version": 2
   },
   "file_extension": ".py",
   "mimetype": "text/x-python",
   "name": "python",
   "nbconvert_exporter": "python",
   "pygments_lexer": "ipython2",
   "version": "2.7.12"
  }
 },
 "nbformat": 4,
 "nbformat_minor": 2
}
