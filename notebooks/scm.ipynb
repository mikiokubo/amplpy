{
 "cells": [
  {
   "cell_type": "markdown",
   "metadata": {},
   "source": [
    "## Supply Chain Optimization Models\n",
    "\n",
    "http://www.logopt.com/mikiokubo/lecture/lecture4.htm\n",
    "\n",
    "### 準備"
   ]
  },
  {
   "cell_type": "code",
   "execution_count": 2,
   "metadata": {},
   "outputs": [],
   "source": [
    "from amplpy import AMPL, Environment, DataFrame,  register_magics\n",
    "ampl = AMPL(Environment(r'/Applications/ampl_macosx64/'))\n",
    "register_magics(store_name='_ampl_cells', ampl_object=ampl)"
   ]
  },
  {
   "cell_type": "markdown",
   "metadata": {},
   "source": [
    "### ナップサック問題\n",
    "\n",
    "AMPLのコマンドやモデルを入力するには，セルの最初に\n",
    "```python\n",
    "%%ampl_eval\n",
    "reset;\n",
    "```\n",
    "を入れる．"
   ]
  },
  {
   "cell_type": "code",
   "execution_count": 66,
   "metadata": {},
   "outputs": [],
   "source": [
    "%%ampl_eval\n",
    "# knapsack problem\n",
    "reset;\n",
    "reset data;\n",
    "set Bear;\n",
    "var x{Bear} binary; \n",
    "param Value{Bear};\n",
    "param Weight{Bear};\n",
    "param MaxWeight;\n",
    "maximize Profit: sum{i in Bear} Value[i]*x[i];\n",
    "subject to Capacity: sum{i in Bear} Weight[i]*x[i]<=MaxWeight; "
   ]
  },
  {
   "cell_type": "markdown",
   "metadata": {},
   "source": [
    "データは amplオブジェクトのsetやparam属性で代入する．"
   ]
  },
  {
   "cell_type": "code",
   "execution_count": 67,
   "metadata": {},
   "outputs": [],
   "source": [
    "# knapsack problem data\n",
    "# set Bear := VerySmall Small Medium Large;\n",
    "# param: Value Weight := \n",
    "# VerySmall 16 2 \n",
    "# Small     19 3\n",
    "# Medium    23 4 \n",
    "# Large     28 5; \n",
    "# param MaxWeight := 7; \n",
    "\n",
    "ampl.set['Bear'] = [\"VerySmall\",\"Small\",\"Medium\",\"Large\"]\n",
    "ampl.param['Value'] = [16, 19, 23, 28]\n",
    "ampl.param['Weight'] = [2,3,4,5]\n",
    "ampl.param['MaxWeight'] = 7"
   ]
  },
  {
   "cell_type": "code",
   "execution_count": 68,
   "metadata": {},
   "outputs": [
    {
     "name": "stdout",
     "output_type": "stream",
     "text": [
      "set Bear := VerySmall Small Medium Large;\n",
      "\n",
      "Value [*] :=\n",
      "    Large  28\n",
      "   Medium  23\n",
      "    Small  19\n",
      "VerySmall  16\n",
      ";\n",
      "\n",
      "Weight [*] :=\n",
      "    Large  5\n",
      "   Medium  4\n",
      "    Small  3\n",
      "VerySmall  2\n",
      ";\n",
      "\n",
      "MaxWeight = 7\n",
      "\n"
     ]
    }
   ],
   "source": [
    "%%ampl_eval\n",
    "display Bear;\n",
    "display Value;\n",
    "display Weight;\n",
    "display MaxWeight;"
   ]
  },
  {
   "cell_type": "code",
   "execution_count": 69,
   "metadata": {},
   "outputs": [
    {
     "name": "stdout",
     "output_type": "stream",
     "text": [
      "Gurobi 9.0.2: optimal solution; objective 44\n"
     ]
    }
   ],
   "source": [
    "%%ampl_eval\n",
    "option solver gurobi;\n",
    "solve;"
   ]
  },
  {
   "cell_type": "code",
   "execution_count": 70,
   "metadata": {},
   "outputs": [
    {
     "name": "stdout",
     "output_type": "stream",
     "text": [
      "\n",
      "parameters:   MaxWeight   Value   Weight\n",
      "\n",
      "set:   Bear\n",
      "\n",
      "variable:   x\n",
      "\n",
      "constraint:   Capacity\n",
      "\n",
      "objective:   Profit\n",
      "Profit = 44\n",
      "\n",
      "x [*] :=\n",
      "    Large  1\n",
      "VerySmall  1\n",
      ";\n",
      "\n",
      "maximize Profit:\n",
      "\t16*x['VerySmall'] + 19*x['Small'] + 23*x['Medium'] + 28*x['Large'];\n",
      "\n",
      "subject to Capacity:\n",
      "\t2*x['VerySmall'] + 3*x['Small'] + 4*x['Medium'] + 5*x['Large'] <= 7;\n",
      "\n"
     ]
    }
   ],
   "source": [
    "%%ampl_eval\n",
    "show;\n",
    "display Profit;\n",
    "display x;\n",
    "expand Profit;\n",
    "expand Capacity;"
   ]
  },
  {
   "cell_type": "code",
   "execution_count": 71,
   "metadata": {},
   "outputs": [],
   "source": [
    "ampl.exportData(\"kp.dat\")"
   ]
  },
  {
   "cell_type": "markdown",
   "metadata": {},
   "source": [
    "### 巡回セールスマン問題"
   ]
  },
  {
   "cell_type": "code",
   "execution_count": 20,
   "metadata": {},
   "outputs": [],
   "source": [
    "ampl = AMPL(Environment(r'/Applications/ampl_macosx64/'))\n",
    "register_magics(store_name='_ampl_cells', ampl_object=ampl)"
   ]
  },
  {
   "cell_type": "code",
   "execution_count": 21,
   "metadata": {},
   "outputs": [],
   "source": [
    "%%ampl_eval\n",
    "# MTZ formulation for asymmetric traveling salesman problem\n",
    "reset;\n",
    "param n;\n",
    "set V :=  1..n;   \n",
    "set V0 := 2..n;\n",
    "set A :=V cross V;  \n",
    "param D { A } >= 0, default 9999999;  \n",
    "var x { A } binary ;   \n",
    "var u { V0 } >=1,<=n-1;\n",
    "minimize total_cost:\n",
    "   sum {(i,j) in A} D[i,j] * x[i,j]; \n",
    "subject to Degree1 {i in V}:\n",
    "   sum {(i,j) in A } x[i,j] =1 ;\n",
    "subject to Degree2 {i in V}:\n",
    "   sum {(j,i) in A } x[j,i] =1 ;\n",
    "subject to MTZ{ (i,j) in A: i != j and j!=1 and i!=1}:\n",
    "   u[i]+1 -(n-1)*(1-x[i,j])<=u[j]; "
   ]
  },
  {
   "cell_type": "code",
   "execution_count": 22,
   "metadata": {},
   "outputs": [],
   "source": [
    "%%ampl_eval\n",
    "# MTZ formulation for asymmetric traveling salesman problem\n",
    "# lifted MTZ constraints\n",
    "reset;\n",
    "param n >=0;\n",
    "set V :=  1..n ;   \n",
    "set V0 := 2..n;\n",
    "set A :=V cross V;  \n",
    "param D { A } >= 0, default 9999999;  \n",
    "var x { A } binary ;   \n",
    "var u { V0 } >=1,<=n-1;\n",
    "minimize total_cost:\n",
    "   sum {(i,j) in A} D[i,j] * x[i,j]; \n",
    "subject to Degree1 {i in V}:\n",
    "   sum {(i,j) in A } x[i,j] =1 ;\n",
    "subject to Degree2 {i in V}:\n",
    "   sum {(j,i) in A } x[j,i] =1 ;\n",
    "subject to MTZ{ (i,j) in A: i != j and j!=1 and i!=1}:\n",
    "   u[i]+1 -(n-1)*(1-x[i,j]) + (n-3)*x[j,i]<=u[j]; \n",
    "subject to LiftedLB{ i in V0}:\n",
    "   1+(1-x[1,i]) +(n-3)*x[i,1] <= u[i];\n",
    "subject to LiftedUB{ i in V0}:\n",
    " u[i] <=(n-1)-(1-x[i,1])-(n-3)*x[1,i]; "
   ]
  },
  {
   "cell_type": "code",
   "execution_count": 35,
   "metadata": {},
   "outputs": [],
   "source": [
    "import random\n",
    "n = 5\n",
    "ampl.param['n'] = n\n",
    "D = ampl.getParameter(\"D\")\n",
    "for i in range(1,n+1):\n",
    "    for j in range(1,n+1):\n",
    "        if i!=j:\n",
    "            D[i,j] = random.randint(1,10)"
   ]
  },
  {
   "cell_type": "code",
   "execution_count": 36,
   "metadata": {},
   "outputs": [
    {
     "name": "stdout",
     "output_type": "stream",
     "text": [
      "n = 5\n",
      "\n",
      "D [*,*]\n",
      ":     1       2       3       4       5      :=\n",
      "1   1e+07       3       4       8       7\n",
      "2       7   1e+07      10       5       1\n",
      "3       8       6   1e+07       6       2\n",
      "4       3      10       7   1e+07       8\n",
      "5       2       8       9       6   1e+07\n",
      ";\n",
      "\n"
     ]
    }
   ],
   "source": [
    "%%ampl_eval\n",
    "display n;\n",
    "display D;"
   ]
  },
  {
   "cell_type": "code",
   "execution_count": 37,
   "metadata": {},
   "outputs": [
    {
     "name": "stdout",
     "output_type": "stream",
     "text": [
      "minimize total_cost:\n",
      "\t1e+07*x[1,1] + 3*x[1,2] + 4*x[1,3] + 8*x[1,4] + 7*x[1,5] + 7*x[2,1] + \n",
      "\t1e+07*x[2,2] + 10*x[2,3] + 5*x[2,4] + x[2,5] + 8*x[3,1] + 6*x[3,2] + \n",
      "\t1e+07*x[3,3] + 6*x[3,4] + 2*x[3,5] + 3*x[4,1] + 10*x[4,2] + 7*x[4,3] + \n",
      "\t1e+07*x[4,4] + 8*x[4,5] + 2*x[5,1] + 8*x[5,2] + 9*x[5,3] + 6*x[5,4] + \n",
      "\t1e+07*x[5,5];\n",
      "\n",
      "Gurobi 9.0.2: optimal solution; objective 19\n",
      "12 simplex iterations\n",
      "plus 4 simplex iterations for intbasis\n"
     ]
    }
   ],
   "source": [
    "%%ampl_eval\n",
    "expand total_cost;\n",
    "option solver gurobi;\n",
    "solve;"
   ]
  },
  {
   "cell_type": "code",
   "execution_count": 38,
   "metadata": {},
   "outputs": [
    {
     "name": "stdout",
     "output_type": "stream",
     "text": [
      "x :=\n",
      "1 2   1\n",
      "2 4   1\n",
      "3 5   1\n",
      "4 3   1\n",
      "5 1   1\n",
      ";\n",
      "\n"
     ]
    }
   ],
   "source": [
    "%%ampl_eval\n",
    "display x;"
   ]
  },
  {
   "cell_type": "markdown",
   "metadata": {},
   "source": [
    "### 施設配置問題\n"
   ]
  },
  {
   "cell_type": "code",
   "execution_count": 40,
   "metadata": {},
   "outputs": [],
   "source": [
    "ampl = AMPL(Environment(r'/Applications/ampl_macosx64/'))\n",
    "register_magics(store_name='_ampl_cells', ampl_object=ampl)"
   ]
  },
  {
   "cell_type": "code",
   "execution_count": 41,
   "metadata": {},
   "outputs": [],
   "source": [
    "%%ampl_eval\n",
    "reset;\n",
    "set Warehouse;   \n",
    "set Market;  \n",
    "set Edge := Warehouse cross Market;\n",
    "param Supply {Warehouse} >= 0, default 9999999;  \n",
    "param Demand {Market} >= 0;  \n",
    "param TransCost { Edge } >= 0; \n",
    "param FixedCost {Warehouse};\n",
    "var x { Edge }  >= 0;   \n",
    "var y {Warehouse } binary;\n",
    "minimize total_cost:\n",
    "   sum {(i,j) in  Edge} TransCost[i,j] * x[i,j] + sum{ i in Warehouse } FixedCost[i]* y[i];\n",
    "subject to SupplyUpperBound {i in Warehouse}:\n",
    "   sum {j in Market} x[i,j] <= Supply[i]*y[i];\n",
    "subject to SupplyUpperBound2 {(i,j) in Edge}:\n",
    "   x[i,j] <= Demand[j]*y[i];\n",
    "subject to DemandConst {j in Market}:\n",
    "   sum {i in Warehouse} x[i,j] = Demand[j];"
   ]
  },
  {
   "cell_type": "code",
   "execution_count": 48,
   "metadata": {},
   "outputs": [],
   "source": [
    "# set Warehouse :=A B C;\n",
    "# set Market :=  N  K  O   S  T; \n",
    "# param Demand := N 180 K 80 O 200 S 160 T 220;\n",
    "# param TransCost: N K O S T := \n",
    "#      A 1000  800   600  500  400   \n",
    "#      B 600   500   400  300  600   \n",
    "#      C 300   400   500  500  900 ;\n",
    "# param FixedCost := A 10000 B 10000 C 10000;  \n",
    "tc = [ [1000,  800,   600,  500,  400],   \n",
    "     [ 600,   500,   400,  300,  600],   \n",
    "     [ 300,   400,   500,  500,  900] ]\n",
    "warehouse = [\"A\",\"B\",\"C\"]\n",
    "market = [\"N\",\"K\",\"O\",\"S\",\"T\"]\n",
    "ampl.set['Warehouse'] = warehouse\n",
    "ampl.set['Market'] = market \n",
    "ampl.param['Demand'] = [180, 80, 200, 160, 220]\n",
    "ampl.param['FixedCost'] = [10000, 10000, 10000]\n",
    "ampl.param['TransCost'] = {(w,m): tc[i][j] for i,w in enumerate(warehouse) for j,m in enumerate(market)}"
   ]
  },
  {
   "cell_type": "code",
   "execution_count": 49,
   "metadata": {},
   "outputs": [
    {
     "name": "stdout",
     "output_type": "stream",
     "text": [
      "Demand [*] :=\n",
      "K   80\n",
      "N  180\n",
      "O  200\n",
      "S  160\n",
      "T  220\n",
      ";\n",
      "\n",
      "TransCost :=\n",
      "A K    800\n",
      "A N   1000\n",
      "A O    600\n",
      "A S    500\n",
      "A T    400\n",
      "B K    500\n",
      "B N    600\n",
      "B O    400\n",
      "B S    300\n",
      "B T    600\n",
      "C K    400\n",
      "C N    300\n",
      "C O    500\n",
      "C S    500\n",
      "C T    900\n",
      ";\n",
      "\n"
     ]
    }
   ],
   "source": [
    "%%ampl_eval\n",
    "display Demand;\n",
    "display TransCost;"
   ]
  },
  {
   "cell_type": "code",
   "execution_count": 52,
   "metadata": {},
   "outputs": [
    {
     "name": "stdout",
     "output_type": "stream",
     "text": [
      "Gurobi 9.0.2: optimal solution; objective 332000\n",
      "2 simplex iterations\n",
      "x :=\n",
      "A T   220\n",
      "B O   200\n",
      "B S   160\n",
      "C K    80\n",
      "C N   180\n",
      ";\n",
      "\n",
      "y [*] :=\n",
      "A  1\n",
      "B  1\n",
      "C  1\n",
      ";\n",
      "\n"
     ]
    }
   ],
   "source": [
    "%%ampl_eval\n",
    "option solver gurobi;\n",
    "solve;\n",
    "display x;\n",
    "display y;"
   ]
  },
  {
   "cell_type": "markdown",
   "metadata": {},
   "source": [
    "### ロットサイズ決定問題\n",
    "\n",
    "通常の定式化とエシェロン在庫モデル"
   ]
  },
  {
   "cell_type": "code",
   "execution_count": 83,
   "metadata": {},
   "outputs": [],
   "source": [
    "ampl = AMPL(Environment(r'/Applications/ampl_macosx64/'))\n",
    "register_magics(store_name='_ampl_cells', ampl_object=ampl)"
   ]
  },
  {
   "cell_type": "code",
   "execution_count": 96,
   "metadata": {},
   "outputs": [],
   "source": [
    "%%ampl_eval\n",
    "# Big Bucket Lot Sizing Problem\n",
    "reset;\n",
    "\n",
    "param T;                     #number of periods \n",
    "set Period :={1..T}; \n",
    "set Prod;\n",
    "set Parent {Prod} default {};\n",
    "set Resource;\n",
    "set ResourceProdPair within {Resource, Prod};\n",
    "\n",
    "param SetUpCost{ Prod, Period };\n",
    "param SetUpTime{ Prod, Period};\n",
    "param VariableCost{ Prod, Period };\n",
    "param HoldingCost{ Prod, Period };\n",
    "param Demand{Prod,Period} default 0;\n",
    "set DemandProd := setof {p in Prod, t in Period: Demand[p,t]>0} p;\n",
    "param MinResourceUB{Prod, Period }>=0;\n",
    "param Unit{p in Prod, Parent[p]};\n",
    "param ResourceUB{ Resource, Period }>=0;\n",
    "param R {ResourceProdPair} >=0;\n",
    "param DemandSlackPenalty{DemandProd} default 99999;\n",
    "param DemandSurplusPenalty{DemandProd} default 99999;\n",
    "param FirstInv{Prod} default 0;\n",
    "param LastInv{Prod} default 0;\n",
    "\n",
    "var y{Prod,Period} binary; \n",
    "var x{Prod,Period} >=0;\n",
    "var inv{Prod,Period diff {T} } >=0;\n",
    "var vminus{DemandProd,Period}>=0;\n",
    "var vplus{DemandProd,Period}>=0;\n",
    "\n",
    "var TotalCost{2..5};\n",
    "\n",
    "subject to ProductionSetupConnect{ p in Prod, t in Period }:\n",
    "  x[p,t] <= MinResourceUB[p,t]*y[p,t]  ;\n",
    "\n",
    "minimize cost:\n",
    "sum{p in Prod,t in Period} SetUpCost[p,t]*y[p,t]+   sum{i in {2..5}} TotalCost[i];\n",
    "\n",
    "#subject to Cost1:\n",
    "#  TotalCost[1] = sum{p in Prod,t in Period} SetUpCost[p,t]*y[p,t] ;\n",
    "\n",
    "subject to Cost2:\n",
    "  TotalCost[2] = sum{p in Prod,t in Period}  VariableCost[p,t]*x[p,t];\n",
    "\n",
    "subject to Cost3:\n",
    "  TotalCost[3] = sum{p in Prod,t in Period diff {T} } HoldingCost[p,t]*inv[p,t];\n",
    "\n",
    "subject to Cost4:\n",
    "  TotalCost[4] = sum{p in Prod,t in Period}  DemandSlackPenalty[p]*vminus[p,t];\n",
    "\n",
    "subject to Cost5:\n",
    "  TotalCost[5] = sum{p in Prod,t in Period} DemandSurplusPenalty[p]*vplus[p,t];\n",
    "\n",
    "subject to FlowConservation{p in Prod,t in Period}:\n",
    "(if t=1 then FirstInv[p] else inv[p,t-1])+\n",
    "    x[p,t] =\n",
    "(if t=T then LastInv[p] else inv[p,t]) +\n",
    "+sum{q in Parent[p]} Unit[p,q]*x[q,t]\n",
    "+ (if p in DemandProd then \n",
    "   Demand[p,t]+vminus[p,t]-vplus[p,t] else 0) \n",
    ";\n",
    "\n",
    "subject to ResourceUpperBound {r in Resource, t in Period}:\n",
    "sum {p in Prod: (r,p) in ResourceProdPair}\n",
    "   (R[r,p] * x[p,t] + SetUpTime[p,t]*y[p,t]) <= ResourceUB[r,t];\n",
    "\n",
    "subject to Cut{p in Prod, t in Period diff {T} }:\n",
    "  x[p,t] <=Demand[p,t]*y[p,t]+inv[p,t];\n"
   ]
  },
  {
   "cell_type": "code",
   "execution_count": 97,
   "metadata": {},
   "outputs": [],
   "source": [
    "ampl.readData(\"lot1.dat\")"
   ]
  },
  {
   "cell_type": "code",
   "execution_count": 99,
   "metadata": {},
   "outputs": [
    {
     "name": "stdout",
     "output_type": "stream",
     "text": [
      "Gurobi 9.0.2: optimal solution; objective 272024552.5\n",
      "78 simplex iterations\n",
      "1 branch-and-cut nodes\n",
      "plus 68 simplex iterations for intbasis\n",
      "x [*,*]\n",
      ":        1      2      3      4      5      :=\n",
      "prod1   9180   9300   8280   3840   9450\n",
      "prod2   6840   7260   7920   3540   8100\n",
      "prod3      0   2940   2580   1380   2400\n",
      "prod4      0    780    960   1560   1050\n",
      "prod5      0      0    290    180    200\n",
      "prod6      0      0      0      0     55\n",
      ";\n",
      "\n"
     ]
    }
   ],
   "source": [
    "%%ampl_eval\n",
    "option solver gurobi;\n",
    "solve;\n",
    "display x;"
   ]
  },
  {
   "cell_type": "code",
   "execution_count": 100,
   "metadata": {},
   "outputs": [],
   "source": [
    "ampl = AMPL(Environment(r'/Applications/ampl_macosx64/'))\n",
    "register_magics(store_name='_ampl_cells', ampl_object=ampl)"
   ]
  },
  {
   "cell_type": "code",
   "execution_count": 101,
   "metadata": {},
   "outputs": [],
   "source": [
    "%%ampl_eval\n",
    "reset;\n",
    "# Big Bucket Lot Sizing Problem\n",
    "# Echelon Inventory Formulation\n",
    "param T;                     #number of periods \n",
    "set Period :={1..T}; \n",
    "set Prod;\n",
    "set Parent {Prod} default {};\n",
    "set Resource;\n",
    "set ResourceProdPair within {Resource, Prod};\n",
    "param SetUpCost{ Prod, Period };\n",
    "param SetUpTime{ Prod, Period};\n",
    "param VariableCost{ Prod, Period };\n",
    "param HoldingCost{ Prod, Period }; #Echelon Holding Cost\n",
    "#Echelon Demand (sum of direct demand plus demand of ancestors)\n",
    "param Demand{Prod,Period} default 0; \n",
    "set DemandProd := setof {p in Prod, t in Period: Demand[p,t]>0} p;\n",
    "\n",
    "param MinResourceUB{Prod, Period }>=0;\n",
    "\n",
    "param Unit{p in Prod, Parent[p]};\n",
    "\n",
    "param ResourceUB{ Resource, Period }>=0;\n",
    "\n",
    "\n",
    "param R {ResourceProdPair} >=0;\n",
    "param DemandSlackPenalty{DemandProd} default 9999999;\n",
    "param DemandSurplusPenalty{DemandProd} default 9999999;\n",
    "\n",
    "param FirstInv{Prod} default 0;\n",
    "param LastInv{Prod} default 0;\n",
    "var y{Prod,Period} binary; \n",
    "var x{Prod,Period} >=0;\n",
    "var inv{Prod,Period} >=0; #Echelon Inventory\n",
    "var vminus{DemandProd,Period}>=0;\n",
    "var vplus{DemandProd,Period}>=0;\n",
    "\n",
    "#var TotalSetUpCost >=0;\n",
    "#var TotalVariableCost >=0;\n",
    "#var TotalHoldingCost>=0;\n",
    "#var TotalSlack>=0;\n",
    "#var TotalSurplus>=0;\n",
    "var TotalCost{1..5};\n",
    "\n",
    "\n",
    "#subject to Cost1:\n",
    "#  TotalCost[1] = sum{p in Prod,t in Period} SetUpCost[p,t]*y[p,t] ;\n",
    "\n",
    "subject to Cost2:\n",
    "  TotalCost[2] = sum{p in Prod,t in Period}  VariableCost[p,t]*x[p,t];\n",
    "\n",
    "subject to Cost3:\n",
    "  TotalCost[3] = sum{p in Prod,t in Period} HoldingCost[p,t]*inv[p,t];\n",
    "\n",
    "subject to Cost4:\n",
    "  TotalCost[4] = sum{p in Prod,t in Period}  DemandSlackPenalty[p]*vminus[p,t];\n",
    "\n",
    "subject to Cost5:\n",
    "  TotalCost[5] = sum{p in Prod,t in Period} DemandSurplusPenalty[p]*vplus[p,t];\n",
    "\n",
    "\n",
    "minimize cost:\n",
    "#   TotalSetUpCost+TotalVariableCost+TotalHoldingCost+TotalSlack+TotalSurplus;\n",
    " sum{p in Prod,t in Period} SetUpCost[p,t]*y[p,t] +  sum{i in {2..5}} TotalCost[i];\n",
    "\n",
    "subject to ProductionSetupConnect{ p in Prod, t in Period }:\n",
    "  x[p,t] <= MinResourceUB[p,t]*y[p,t]  ;\n",
    "\n",
    "subject to FlowConservation{p in Prod,t in Period}:\n",
    "(if t=1 then FirstInv[p] else inv[p,t-1])+\n",
    "    x[p,t] \n",
    " =\n",
    "(if t=T then LastInv[p] else inv[p,t]) +\n",
    " (if p in DemandProd then \n",
    "   Demand[p,t]+vminus[p,t]-vplus[p,t] else 0) \n",
    ";\n",
    "\n",
    "#Echelon Connection Constraints\n",
    "subject to EchelonConnect{p in Prod, t in Period}:\n",
    "inv[p,t] >=sum{q in Parent[p]} Unit[p,q]*inv[q,t];\n",
    "\n",
    "subject to ResourceUpperBound {r in Resource, t in Period}:\n",
    "sum {p in Prod: (r,p) in ResourceProdPair}\n",
    "   (R[r,p] * x[p,t] + SetUpTime[p,t]*y[p,t]) <= ResourceUB[r,t];\n",
    "\n",
    "subject to Cut{p in Prod, t in Period}:\n",
    "  x[p,t] <=Demand[p,t]*y[p,t]+inv[p,t];\n"
   ]
  },
  {
   "cell_type": "code",
   "execution_count": 102,
   "metadata": {},
   "outputs": [],
   "source": [
    "ampl.readData(\"lot1.dat\")"
   ]
  },
  {
   "cell_type": "code",
   "execution_count": 103,
   "metadata": {},
   "outputs": [
    {
     "name": "stdout",
     "output_type": "stream",
     "text": [
      "Gurobi 9.0.2: optimal solution; objective 528395\n",
      "110 simplex iterations\n",
      "1 branch-and-cut nodes\n",
      "plus 78 simplex iterations for intbasis\n",
      "x [*,*]\n",
      ":        1      2      3      4     5    :=\n",
      "prod1   4920   1740   8160   2280   0\n",
      "prod2   3540   3480   4080   4560   0\n",
      "prod3   2100      0   4080      0   0\n",
      "prod4    720   1740      0   2280   0\n",
      "prod5    350      0    680      0   0\n",
      "prod6    120    290      0    380   0\n",
      ";\n",
      "\n"
     ]
    }
   ],
   "source": [
    "%%ampl_eval\n",
    "option solver gurobi;\n",
    "solve;\n",
    "display x;"
   ]
  },
  {
   "cell_type": "code",
   "execution_count": null,
   "metadata": {},
   "outputs": [],
   "source": [
    "%%ampl_eval\n",
    "### MELOS-R (Reverse)  AMPL File ### \n",
    "reset;\n",
    "### Sets ### \n",
    "set Prod; \n",
    "set Parent{Prod} within Prod;\n",
    "set Child{Prod}  within Prod;\n",
    "set Cust 'Customers'; #Set of customers\n",
    "set DC 'Warehouses';  #Set of warehouses\n",
    "set Plnt 'Plants';    #Set of plants\n",
    "set AllLine;\n",
    "set Sply 'Suppliers'; #Set of suppliers\n",
    "set RevSply;\n",
    "set Node := Cust union DC union Plnt union Sply union RevSply;\n",
    "set Route within {Node,Node,Prod};\n",
    "\n",
    "set Arc  := setof { (i,j,p) in Route} (i,j); \n",
    "set Line{Plnt} within AllLine;\n",
    "set ProdInLine{AllLine} within Prod;\n",
    "set Pattern := \n",
    "setof{i in Plnt, ell in Line[i], p in ProdInLine[ell] } (i,ell,p);\n",
    "\n",
    "set ProdIn{i in Plnt } :=\n",
    "    setof { (j,i,p) in Route} p; \n",
    "set ProdOut{i in Plnt} :=\n",
    "    setof {(i,j,p) in Route} p;\n",
    "\n",
    "### Parameters ###\n",
    "# Product data\n",
    "param VOL{ Prod } >=0;\n",
    "param HEIGHT{ Prod } >=0;\n",
    "param Unit{p in Prod, Child[p] } >=0;\n",
    "param RevUnit{ p in Prod, Parent[p]} >=0;\n",
    "\n",
    "# Supplier data\n",
    "param SupplyLB {i in Sply,p in Prod} >=0;\n",
    "param SupplyUB {i in Sply,p in Prod} >=SupplyLB[i,p];\n",
    "param SC {Sply,Prod} >=0;\n",
    "\n",
    "# Reverse Supplier data\n",
    "param RevSupplyLB {i in RevSply,p in Prod} >=0;\n",
    "param RevSupplyUB {i in RevSply,p in Prod} >=RevSupplyLB[i,p];\n",
    "param RevSC {RevSply,Prod} >=0;\n",
    "\n",
    "# Warehouse data\n",
    " param FixedCost {DC union Plnt union AllLine} >=0;\n",
    " param yLB{DC union Plnt}>=0,<=1;\n",
    " param yUB{j in DC union Plnt}>=yLB[j], <=1;\n",
    " param VariableCost {DC,Prod} >=0;\n",
    " param DCLB {DC} >=0;\n",
    " param DCUB {j in DC} >= DCLB[j];\n",
    " param VAL{DC,Prod} >=0;\n",
    " param SAFETY{DC,Prod} >=0;\n",
    "\n",
    "# Line data\n",
    "param LLB {AllLine};\n",
    "param LUB {ell in AllLine} >=LLB[ell];\n",
    "param PC{ell in AllLine, ProdInLine[ell] };\n",
    "param PLB{ell in AllLine, ProdInLine[ell] };\n",
    "param PUB{ell in AllLine, p in ProdInLine[ell] }>= PLB[ell,p];\n",
    "param R{ell in AllLine, ProdInLine[ell] };\n",
    "param ITRL{ell in AllLine, ProdInLine[ell] } >0;\n",
    "param LHoldingCost{ell in AllLine, ProdInLine[ell] }>=0;\n",
    "param zLB{i in Plnt,ell in Line[i]} >=0, <=1;\n",
    "param zUB{i in Plnt,ell in Line[i]} >=zLB[i,ell], <=1;\n",
    "param VALL {ell in AllLine, ProdInLine[ell] } >=0;\n",
    "param SAFETYL {ell in AllLine, ProdInLine[ell]} >=0;\n",
    "\n",
    "# Customer data\n",
    "param Demand {Cust,Prod}>=0;\n",
    "param BOC    {Cust,Prod}>=0;\n",
    "param RevDemand {Cust,Prod}>=0;\n",
    "param RevBOC {Cust,Prod} >=0;\n",
    "\n",
    "# Transportation data\n",
    "param TransCost {Route} >=0;\n",
    "param ITR {Route} >0;\n",
    "param HoldingCost {Route} >=0;\n",
    "\n",
    "# Other parameters\n",
    "param ratio;\n",
    "param SSR;\n",
    "\n",
    "# Induced Set\n",
    "set FinalProd := setof{k in Cust,p in Prod: Demand[k,p] >0 } p;\n",
    "set RevProd   := setof{k in Cust,p in Prod: RevDemand[k,p] >0 } p;\n",
    "set InitialProd := setof{s in Sply,p in Prod: SupplyUB[s,p]>0} p;\n",
    "set RevInitialProd := setof{s in RevSply,p in Prod: RevSupplyUB[s,p]>0} p;\n",
    "\n",
    "### Variables ###\n",
    "var y 'open or not' {j in DC union Plnt} binary, >=yLB[j], <=yUB[j] ; \n",
    "var z {i in Plnt, ell in Line[i]} binary, >=zLB[i,ell],<=zUB[i,ell];\n",
    "var w {i in Plnt, ell in Line[i], p in ProdInLine[ell]} >=0;\n",
    "var x  'flow volume' {Route} >=0;\n",
    "var xi 'backorder'   {Cust,FinalProd} >=0;\n",
    "var revxi 'rev backorder' {Cust,RevProd} >=0;\n",
    "\n",
    "### Objective ###\n",
    "minimize cost: \n",
    "     sum {i in Sply, p in InitialProd, (i,j,p) in Route} SC[i,p] * x[i,j,p] +\n",
    "     sum {i in RevSply, p in RevInitialProd, (j,i,p) in Route} RevSC[i,p] * x[j,i,p] +\n",
    "     sum {(i,j,p) in Route} TransCost[i,j,p] * x[i,j,p] +\n",
    "     sum {j in (DC union Plnt)} FixedCost[j] * y[j] +\n",
    "     sum {i in Plnt, ell in Line[i]} FixedCost[ell] * z[i,ell] +\n",
    "     sum {j in DC,  (j,k,p) in Route} VariableCost[j,p] * x[j,k,p] +\n",
    "     sum {i in Plnt, ell in Line[i], p in ProdInLine[ell]} PC[ell,p] *w[i,ell,p]+\n",
    "     sum {i in Plnt, ell in Line[i], p in ProdInLine[ell]} LHoldingCost[ell,p]/ITRL[ell,p]* w[i,ell,p]+\n",
    "     sum {i in Plnt, ell in Line[i], p in ProdInLine[ell]} ratio*VALL[ell,p]*SAFETYL[ell,p] * w[i,ell,p]+\n",
    "     sum {(i,j,p) in Route} HoldingCost[i,j,p] /ITR[i,j,p] * x[i,j,p] + \n",
    "     sum {j in DC,  (j,k,p) in Route} ratio*VAL[j,p]*SAFETY[j,p] * x[j,k,p]+\n",
    "     sum {k in Cust, p in FinalProd} BOC[k,p]*xi[k,p]+\n",
    "     sum {k in Cust, p in RevProd} RevBOC[k,p]*revxi[k,p]  ;\n",
    "\n",
    "### Constraints ###\n",
    "DemSat 'all demands are satisfied' {k in Cust, p in FinalProd}:\n",
    "     sum {(j,k,p) in Route} x[j,k,p] + xi[k,p] = Demand[k,p];\n",
    "\n",
    "RevDemSat 'all reverse demands are satisfied' {k in Cust, p in RevProd}:\n",
    "     sum {(k,j,p) in Route} x[k,j,p] + revxi[k,p] = RevDemand[k,p];\n",
    "\n",
    "Supplybnds 'upper and lower bounds of supply' {i in Sply, p in InitialProd}:\n",
    "    SupplyLB[i,p] <= sum { (i,j,p) in Route} x[i,j,p] <= SupplyUB[i,p];\n",
    "\n",
    "RevSupplybnds 'upper and lower bounds of reverse supply' {i in RevSply, p in RevInitialProd}:\n",
    "    RevSupplyLB[i,p] <= sum { (j,i,p) in Route} x[j,i,p] <= RevSupplyUB[i,p];\n",
    "\n",
    "DCLowerBound 'lower bound of warehouse' {j in DC}:\n",
    "    DCLB[j] * y[j] <= sum {k in Node,p in Prod: (j,k,p) in Route} \n",
    "    VOL[p] * SSR /HEIGHT[p] *(1/ITR[j,k,p] +SAFETY[j,p])* x[j,k,p];\n",
    "\n",
    "DCUpperBound 'upper bound of warehouse' {j in DC}:\n",
    "  sum {k in Node, p in Prod: (j,k,p) in Route}\n",
    "    VOL[p] * SSR /HEIGHT[p] * x[j,k,p] <=DCUB[j] * y[j];\n",
    "\n",
    "flowcons 'flow conservation equation' {j in DC, p in Prod}:\n",
    "   sum { (i,j,p) in Route} x[i,j,p] = \n",
    "    sum {(j,k,p) in Route} x[j,k,p];\n",
    "\n",
    "LineResourceLB {i in Plnt, ell in Line[i]}:\n",
    "LLB[ell] * z[i,ell] <= \n",
    "sum{ p in ProdInLine[ell] } R[ell,p]*w[i,ell,p];\n",
    "\n",
    "LineResourceUB {i in Plnt, ell in Line[i]}:\n",
    "sum{ p in ProdInLine[ell] } R[ell,p]*w[i,ell,p] \n",
    "<= LUB[ell] * z[i,ell];\n",
    "\n",
    "LineLB {i in Plnt, ell in Line[i], p in ProdInLine[ell]}:\n",
    "PLB[ell,p]* z[i,ell] <= w[i,ell,p];\n",
    "\n",
    "LineUB {i in Plnt, ell in Line[i], p in ProdInLine[ell]}:\n",
    " w[i,ell,p] <= PUB[ell,p]* z[i,ell];\n",
    "\n",
    "ConnectLineAndPlnt {i in Plnt, ell in Line[i]}:\n",
    "z[i,ell] <= y[i];\n",
    "\n",
    "flowconsPlntIn {i in Plnt, q in ProdIn[i]}:\n",
    "sum{(s,i,q) in Route} x[s,i,q] =\n",
    " sum{ell in Line[i]: (i,ell,q) in Pattern} w[i,ell,q] +\n",
    " sum{ell in Line[i], p in ProdInLine[ell]: q in Child[p]} Unit[p,q]*w[i,ell,p];\n",
    "\n",
    "flowconsPlntout {i in Plnt, r in ProdOut[i]}:\n",
    "sum{ell in Line[i]: (i,ell,r) in Pattern} w[i,ell,r] +\n",
    "sum{ell in Line[i], p in ProdInLine[ell]: r in Parent[p]}\n",
    " RevUnit[p,r]*w[i,ell,p]\n",
    "= sum{(i,j,r) in Route} x[i,j,r];\n",
    "\n",
    "\n"
   ]
  }
 ],
 "metadata": {
  "kernelspec": {
   "display_name": "Python 3",
   "language": "python",
   "name": "python3"
  },
  "language_info": {
   "codemirror_mode": {
    "name": "ipython",
    "version": 3
   },
   "file_extension": ".py",
   "mimetype": "text/x-python",
   "name": "python",
   "nbconvert_exporter": "python",
   "pygments_lexer": "ipython3",
   "version": "3.8.2"
  }
 },
 "nbformat": 4,
 "nbformat_minor": 4
}
