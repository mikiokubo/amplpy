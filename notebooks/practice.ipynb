{
 "cells": [
  {
   "cell_type": "markdown",
   "metadata": {},
   "source": [
    "# 最適化練習問題\n",
    "\n",
    "整数線形最適化については，以下のサイト参照：\n",
    "https://mikiokubo.github.io/analytics/optimization/\n",
    "\n",
    "AMPLPY+Gurobiで最適化を行う．\n",
    "\n",
    "非線形最適化については，以下のサイト参照：\n",
    "\n",
    "https://mikiokubo.github.io/analytics/11scipy/\n",
    "\n",
    "AMPLPY + Knitoroで最適化を行う． \n",
    "\n",
    "非線形最適化の簡単な例題"
   ]
  },
  {
   "cell_type": "markdown",
   "metadata": {},
   "source": [
    "### 例題1\n",
    "\n",
    "半径 $\\sqrt{2}$ の円内の制約の下で $x+y$ を最大化せよ．"
   ]
  },
  {
   "cell_type": "code",
   "execution_count": 18,
   "metadata": {},
   "outputs": [],
   "source": [
    "from amplpy import AMPL, Environment, DataFrame,  register_magics\n",
    "ampl = AMPL(Environment(r'/Applications/ampl_macosx64/'))\n",
    "register_magics(store_name='_ampl_cells', ampl_object=ampl)"
   ]
  },
  {
   "cell_type": "code",
   "execution_count": 23,
   "metadata": {},
   "outputs": [],
   "source": [
    "%%ampl_eval\n",
    "reset;\n",
    "var x>=0;\n",
    "var y>=0;\n",
    "maximize Objective: x+y;\n",
    "subject to\n",
    "Constraint: x^2 + y^2 <=2;"
   ]
  },
  {
   "cell_type": "code",
   "execution_count": 24,
   "metadata": {},
   "outputs": [
    {
     "name": "stdout",
     "output_type": "stream",
     "text": [
      "Artelys Knitro 12.1.0:Knitro 12.1.0: Locally optimal solution.\n",
      "objective 2; feasibility error 9.68e-11\n",
      "5 iterations; 0 function evaluations\n",
      "\n",
      "suffix feaserror OUT;\n",
      "suffix opterror OUT;\n",
      "suffix numfcevals OUT;\n",
      "suffix numiters OUT;\n",
      "x = 1\n",
      "y = 1\n",
      "\n"
     ]
    }
   ],
   "source": [
    "%%ampl_eval\n",
    "option solver knitro;\n",
    "solve;\n",
    "display x,y;"
   ]
  },
  {
   "cell_type": "markdown",
   "metadata": {},
   "source": [
    "### 例題2\n",
    "\n",
    "断面の面積の和が $100$ cm${}^2$ の直方体で，体積最大のものは何か？また体積最小のものは何か？\n"
   ]
  },
  {
   "cell_type": "code",
   "execution_count": null,
   "metadata": {},
   "outputs": [],
   "source": [
    "from amplpy import AMPL, Environment, DataFrame,  register_magics\n",
    "ampl = AMPL(Environment(r'/Applications/ampl_macosx64/'))\n",
    "register_magics(store_name='_ampl_cells', ampl_object=ampl)"
   ]
  },
  {
   "cell_type": "code",
   "execution_count": 15,
   "metadata": {},
   "outputs": [],
   "source": [
    "%%ampl_eval\n",
    "reset;\n",
    "var x>=0;\n",
    "var y>=0;\n",
    "var z>=0;\n",
    "maximize Volume: x*y*z; \n",
    "subject to \n",
    "Constraint: 2*x*y + 2*x*z + 2*y*z = 1000; "
   ]
  },
  {
   "cell_type": "code",
   "execution_count": 16,
   "metadata": {},
   "outputs": [
    {
     "name": "stdout",
     "output_type": "stream",
     "text": [
      "Artelys Knitro 12.1.0:Knitro 12.1.0: Locally optimal solution.\n",
      "objective 2151.657396; feasibility error 5.81e-06\n",
      "7 iterations; 9 function evaluations\n",
      "\n",
      "suffix feaserror OUT;\n",
      "suffix opterror OUT;\n",
      "suffix numfcevals OUT;\n",
      "suffix numiters OUT;\n"
     ]
    }
   ],
   "source": [
    "%%ampl_eval\n",
    "option solver knitro;\n",
    "solve;"
   ]
  },
  {
   "cell_type": "code",
   "execution_count": 17,
   "metadata": {},
   "outputs": [
    {
     "name": "stdout",
     "output_type": "stream",
     "text": [
      "x = 12.9099\n",
      "y = 12.9099\n",
      "z = 12.9099\n",
      "\n"
     ]
    }
   ],
   "source": [
    "%%ampl_eval\n",
    "display x,y,z;"
   ]
  },
  {
   "cell_type": "markdown",
   "metadata": {},
   "source": [
    "### 問題\n",
    "\n",
    "鳥が放物線 $y=x^2 + 10$ を描いて飛んでいる．いま $(10,0)$ の位置にいるカメラマンが，鳥との距離が最小の地点で\n",
    "シャッターを押そうとしている．鳥がどの座標に来たときにシャッターを押せば良いだろうか？\n"
   ]
  },
  {
   "cell_type": "code",
   "execution_count": 1,
   "metadata": {},
   "outputs": [],
   "source": [
    "ampl = AMPL(Environment(r'/Applications/ampl_macosx64/'))\n",
    "register_magics(store_name='_ampl_cells', ampl_object=ampl)"
   ]
  },
  {
   "cell_type": "code",
   "execution_count": 2,
   "metadata": {},
   "outputs": [],
   "source": [
    "%%ampl_eval\n",
    "reset;"
   ]
  },
  {
   "cell_type": "markdown",
   "metadata": {},
   "source": [
    "### 問題\n",
    "\n",
    "彗星が地球に接近している．地球を原点 $(0,0,0)$ としたとき彗星の描く軌道は曲面 $2x^2 + y^2 + z^2 = 1000$ 上にあることが\n",
    "予測されている．地球に最も接近するときの距離を求めよ．\n"
   ]
  },
  {
   "cell_type": "code",
   "execution_count": null,
   "metadata": {},
   "outputs": [],
   "source": [
    "ampl = AMPL(Environment(r'/Applications/ampl_macosx64/'))\n",
    "register_magics(store_name='_ampl_cells', ampl_object=ampl)"
   ]
  },
  {
   "cell_type": "code",
   "execution_count": null,
   "metadata": {},
   "outputs": [],
   "source": [
    "%%ampl_eval\n",
    "reset;"
   ]
  },
  {
   "cell_type": "code",
   "execution_count": null,
   "metadata": {},
   "outputs": [],
   "source": []
  },
  {
   "cell_type": "markdown",
   "metadata": {},
   "source": [
    "### 複数品目の経済発注量モデル"
   ]
  },
  {
   "cell_type": "code",
   "execution_count": 29,
   "metadata": {},
   "outputs": [],
   "source": [
    "ampl = AMPL(Environment(r'/Applications/ampl_macosx64/'))\n",
    "register_magics(store_name='_ampl_cells', ampl_object=ampl)"
   ]
  },
  {
   "cell_type": "code",
   "execution_count": 48,
   "metadata": {},
   "outputs": [],
   "source": [
    "%%ampl_eval\n",
    "reset;\n",
    "param N := 3; #number of items\n",
    "set Items:=1..N;\n",
    "param F{Items};                     \n",
    "param d{Items}; \n",
    "param h{Items} default 0.;  \n",
    "param w{Items};\n",
    "param W;\n",
    "var T{Items}>=0;      #cycle time\n",
    "minimize Cost: sum{i in Items} (F[i]/T[i] + h[i]*d[i]*T[i]/2);\n",
    "subject to \n",
    "capacity:\n",
    "     sum{i in Items} w[i]*d[i]*T[i]<=W;\n",
    "data;\n",
    "param F:=1 300 2 200 3 100;\n",
    "param d:=1 100 2 100 3 150; \n",
    "param h:=1 10  2 10  3 30;\n",
    "param w:=1 120 2  200  3 100;\n",
    "param W := 5000;"
   ]
  },
  {
   "cell_type": "code",
   "execution_count": 49,
   "metadata": {},
   "outputs": [
    {
     "name": "stdout",
     "output_type": "stream",
     "text": [
      "Artelys Knitro 12.1.0:Knitro 12.1.0: Locally optimal solution.\n",
      "objective 5549.575911; feasibility error 0\n",
      "6 iterations; 8 function evaluations\n",
      "\n",
      "suffix feaserror OUT;\n",
      "suffix opterror OUT;\n",
      "suffix numfcevals OUT;\n",
      "suffix numiters OUT;\n"
     ]
    }
   ],
   "source": [
    "%%ampl_eval\n",
    "option solver knitro;\n",
    "solve;"
   ]
  },
  {
   "cell_type": "code",
   "execution_count": 50,
   "metadata": {},
   "outputs": [
    {
     "name": "stdout",
     "output_type": "stream",
     "text": [
      "T [*] :=\n",
      "1  0.15566\n",
      "2  0.0992529\n",
      "3  0.0764682\n",
      ";\n",
      "\n"
     ]
    }
   ],
   "source": [
    "%%ampl_eval\n",
    "display T;"
   ]
  },
  {
   "cell_type": "code",
   "execution_count": null,
   "metadata": {},
   "outputs": [],
   "source": []
  }
 ],
 "metadata": {
  "kernelspec": {
   "display_name": "Python 3",
   "language": "python",
   "name": "python3"
  },
  "language_info": {
   "codemirror_mode": {
    "name": "ipython",
    "version": 3
   },
   "file_extension": ".py",
   "mimetype": "text/x-python",
   "name": "python",
   "nbconvert_exporter": "python",
   "pygments_lexer": "ipython3",
   "version": "3.8.2"
  }
 },
 "nbformat": 4,
 "nbformat_minor": 4
}
